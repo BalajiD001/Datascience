{
  "metadata": {
    "language_info": {
      "codemirror_mode": {
        "name": "python",
        "version": 3
      },
      "file_extension": ".py",
      "mimetype": "text/x-python",
      "name": "python",
      "nbconvert_exporter": "python",
      "pygments_lexer": "ipython3",
      "version": "3.8"
    },
    "kernelspec": {
      "name": "python",
      "display_name": "Python (Pyodide)",
      "language": "python"
    }
  },
  "nbformat_minor": 4,
  "nbformat": 4,
  "cells": [
    {
      "cell_type": "markdown",
      "source": "## Tools for Data Science Eco system ##\n",
      "metadata": {
        "trusted": true
      }
    },
    {
      "cell_type": "markdown",
      "source": "## in this note book ,data Science tools and ecosystem are summarised.",
      "metadata": {
        "trusted": true
      }
    },
    {
      "cell_type": "markdown",
      "source": "some of the popular language that data Scientists use are:\n    1.Python\n    2.R\n    3.SQL\n    4.C++\n    5.java..;",
      "metadata": {
        "trusted": true
      }
    },
    {
      "cell_type": "markdown",
      "source": "Some of commonly used libraries used by data scientists include:\n    1.Tensorflow\n    2.Numpy\n    3.Scipy\n    4.pandas\n    5.matplotlib\n    6.keras\n    7.Scikit-learn\n    8.Pytorch",
      "metadata": {}
    },
    {
      "cell_type": "markdown",
      "source": "|Data Science Tools|\n|---|\n|Anaconda|\n|Sp|\n|TensorFlow|",
      "metadata": {
        "trusted": true
      }
    },
    {
      "cell_type": "markdown",
      "source": "### Few examples of evaluating arithmatic expression in python.",
      "metadata": {
        "trusted": true
      }
    },
    {
      "cell_type": "code",
      "source": "## normal Arithmatic example to Multiply and then add integer\n(4*4)+7",
      "metadata": {
        "trusted": true
      },
      "execution_count": 6,
      "outputs": [
        {
          "execution_count": 6,
          "output_type": "execute_result",
          "data": {
            "text/plain": "23"
          },
          "metadata": {}
        }
      ]
    },
    {
      "cell_type": "code",
      "source": "## this will 100 minutes to hours by dividing by 60.\n100/60",
      "metadata": {
        "trusted": true
      },
      "execution_count": 4,
      "outputs": [
        {
          "execution_count": 4,
          "output_type": "execute_result",
          "data": {
            "text/plain": "1.6666666666666667"
          },
          "metadata": {}
        }
      ]
    },
    {
      "cell_type": "markdown",
      "source": "_Objective_\n*list Popular language for Data science\n*list Popular language for Data Science\n*list of well known data science tools\n*How to provide Comments in the cell",
      "metadata": {}
    },
    {
      "cell_type": "markdown",
      "source": "Author\nBalaji.D",
      "metadata": {
        "trusted": true
      }
    }
  ]
}